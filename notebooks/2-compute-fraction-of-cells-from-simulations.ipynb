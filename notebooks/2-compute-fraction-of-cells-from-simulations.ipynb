{
 "cells": [
  {
   "cell_type": "code",
   "execution_count": 2,
   "metadata": {},
   "outputs": [],
   "source": [
    "%load_ext autoreload\n",
    "%autoreload 2"
   ]
  },
  {
   "cell_type": "code",
   "execution_count": 3,
   "metadata": {},
   "outputs": [],
   "source": [
    "import pandas as pd"
   ]
  },
  {
   "cell_type": "code",
   "execution_count": 4,
   "metadata": {},
   "outputs": [],
   "source": [
    "import sys\n",
    "sys.path.append(\"../code/\")\n",
    "from manuscript import load_trajectories_sims"
   ]
  },
  {
   "cell_type": "markdown",
   "metadata": {},
   "source": [
    "### Compute fraction of cells $f_c$ from tracer simulations\n",
    "Load results of tracer simulations, iterating over organs and chunks:"
   ]
  },
  {
   "cell_type": "code",
   "execution_count": 7,
   "metadata": {},
   "outputs": [],
   "source": [
    "df = load_trajectories_sims()"
   ]
  },
  {
   "cell_type": "markdown",
   "metadata": {},
   "source": [
    "Becausae the left/right lung, kidney and adrenal gland are generally aggregated in autopsy data, we need to aggregate them here as well."
   ]
  },
  {
   "cell_type": "code",
   "execution_count": 8,
   "metadata": {},
   "outputs": [],
   "source": [
    "for organ in [\"lung\", \"kidney\", \"adrenal_gland\"]:\n",
    "    LR_organ = [f\"left_{organ}\", f\"right_{organ}\"]\n",
    "\n",
    "    # sum for numerator\n",
    "    df[f\"{organ}\"] = df[LR_organ].sum(axis=1)\n",
    "    df.drop(LR_organ, inplace=True, axis=1)\n",
    "\n",
    "    # mean for denominator\n",
    "    df = df.T\n",
    "    df[f\"{organ}\"] = df[LR_organ].mean(axis=1)\n",
    "    df.drop(LR_organ, inplace=True, axis=1)\n",
    "    df = df.T"
   ]
  },
  {
   "cell_type": "markdown",
   "metadata": {},
   "source": [
    "Save results to be used later"
   ]
  },
  {
   "cell_type": "code",
   "execution_count": 9,
   "metadata": {},
   "outputs": [],
   "source": [
    "df.to_pickle(\"../output/data/tracers_notrajs/prob_matrix_tracers_notrajs_symmetrized_10000.p\")"
   ]
  },
  {
   "cell_type": "code",
   "execution_count": null,
   "metadata": {},
   "outputs": [],
   "source": []
  }
 ],
 "metadata": {
  "kernelspec": {
   "display_name": "Python 3",
   "language": "python",
   "name": "python3"
  },
  "language_info": {
   "codemirror_mode": {
    "name": "ipython",
    "version": 3
   },
   "file_extension": ".py",
   "mimetype": "text/x-python",
   "name": "python",
   "nbconvert_exporter": "python",
   "pygments_lexer": "ipython3",
   "version": "3.7.6"
  }
 },
 "nbformat": 4,
 "nbformat_minor": 4
}
