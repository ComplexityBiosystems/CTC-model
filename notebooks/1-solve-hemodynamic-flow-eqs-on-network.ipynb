{
 "cells": [
  {
   "cell_type": "code",
   "execution_count": 1,
   "metadata": {},
   "outputs": [],
   "source": [
    "import sys\n",
    "sys.path.append(\"../code\")"
   ]
  },
  {
   "cell_type": "code",
   "execution_count": 2,
   "metadata": {},
   "outputs": [],
   "source": [
    "from manuscript import coefs"
   ]
  },
  {
   "cell_type": "code",
   "execution_count": 3,
   "metadata": {},
   "outputs": [],
   "source": [
    "import matplotlib as mpl\n",
    "\n",
    "mpl.rcParams['axes.titlesize'] = 16\n",
    "mpl.rcParams['axes.labelsize'] = 14\n",
    "mpl.rcParams['legend.fontsize'] = 12\n",
    "mpl.rcParams['xtick.labelsize'] = 12\n",
    "mpl.rcParams['ytick.labelsize'] = 12\n",
    "mpl.rcParams['axes.spines.right'] = False\n",
    "mpl.rcParams['axes.spines.top'] = False"
   ]
  },
  {
   "cell_type": "code",
   "execution_count": 4,
   "metadata": {},
   "outputs": [],
   "source": [
    "import numpy as np\n",
    "import pandas as pd"
   ]
  },
  {
   "cell_type": "code",
   "execution_count": 5,
   "metadata": {},
   "outputs": [],
   "source": [
    "import matplotlib.pyplot as plt\n",
    "%matplotlib inline\n",
    "import seaborn as sns"
   ]
  },
  {
   "cell_type": "code",
   "execution_count": 6,
   "metadata": {},
   "outputs": [],
   "source": [
    "from BodyPartsPy.optimize import find_organ_coefficients, modify_net, get_rel_flows\n",
    "from BodyPartsPy.flows import solve_flows\n",
    "import networkx as nx"
   ]
  },
  {
   "cell_type": "markdown",
   "metadata": {},
   "source": [
    "### Solve flow network\n",
    "Here we load some pre-computed coefficients to speed-up calculations. "
   ]
  },
  {
   "cell_type": "code",
   "execution_count": 7,
   "metadata": {},
   "outputs": [],
   "source": [
    "network_pickled = \"../output/data/flow_networks/main_network.p\"\n",
    "boundary_conditions_csv = \"../output/data/boundary_conditions/main_boundary_conditions.csv\"\n",
    "connections = pd.read_pickle(\"../output/data/flow_networks/main_connections.p\")\n",
    "organs_dict = pd.read_pickle(\"../output/data/optimization/organs_dict.p\")\n",
    "organs_target = pd.read_pickle(\"../output/data/optimization/organs_targets.p\")\n",
    "\n",
    "net = pd.read_pickle(network_pickled)\n",
    "boundary_conditions = dict(pd.read_csv(boundary_conditions_csv, header=None).values)\n",
    "organs_list = list(organs_dict.keys())\n",
    "nnet = modify_net(coefs, organs_list, organs_dict, net)"
   ]
  },
  {
   "cell_type": "markdown",
   "metadata": {},
   "source": [
    "Alternatively, to re-run all steps and obtain the solved network in one go, run\n",
    "```bash\n",
    "make output/data/solved_flow_networks/solved_main_network.p\n",
    "```\n",
    "Solve the flow problem:"
   ]
  },
  {
   "cell_type": "code",
   "execution_count": 8,
   "metadata": {},
   "outputs": [],
   "source": [
    "dinet = solve_flows(\n",
    "    net=nnet,\n",
    "    boundary_conditions=boundary_conditions,\n",
    "    root=list(boundary_conditions.keys())\n",
    ")"
   ]
  },
  {
   "cell_type": "markdown",
   "metadata": {},
   "source": [
    "Save solved network for later use"
   ]
  },
  {
   "cell_type": "code",
   "execution_count": 9,
   "metadata": {},
   "outputs": [],
   "source": [
    "pd.to_pickle(dinet, \"../output/data/solved_flow_networks/solved_main_network.p\")"
   ]
  },
  {
   "cell_type": "markdown",
   "metadata": {},
   "source": [
    "### Compare to blood flow fraction data"
   ]
  },
  {
   "cell_type": "code",
   "execution_count": 10,
   "metadata": {},
   "outputs": [],
   "source": [
    "organs_rel_flows = get_rel_flows(organs_dict, dinet, boundary_conditions)"
   ]
  },
  {
   "cell_type": "code",
   "execution_count": 11,
   "metadata": {},
   "outputs": [],
   "source": [
    "comparison = pd.DataFrame({\n",
    "    \"literature\": organs_target,\n",
    "    \"model\": organs_rel_flows\n",
    "})\n",
    "comparison[\"abs_err\"] = comparison.model - comparison.literature\n",
    "comparison.index.name=\"organ\"\n",
    "comparison = comparison.reset_index()\n",
    "comparison_long = comparison.drop(7).drop(\"abs_err\", axis=1).melt(id_vars=[\"organ\"], var_name=\"blood_flow_fraction\")\n",
    "comparison[\"_organ\"] = comparison.organ.apply(lambda x: x.replace(\"left_\", \"\").replace(\"right_\", \"\"))\n",
    "_comparison = comparison.groupby(\"_organ\").mean().reset_index()\n",
    "comparison_long = _comparison.melt(id_vars=[\"_organ\"], value_vars=[\"literature\", \"model\"])\n",
    "_comparison.sort_values(by=\"literature\", ascending=True, inplace=True)"
   ]
  },
  {
   "cell_type": "code",
   "execution_count": 12,
   "metadata": {},
   "outputs": [
    {
     "data": {
      "image/png": "[encoded data removed]",
      "text/plain": [
       "<Figure size 360x216 with 1 Axes>"
      ]
     },
     "metadata": {
      "needs_background": "light"
     },
     "output_type": "display_data"
    }
   ],
   "source": [
    "fig, ax = plt.subplots(1, 1, figsize=(5, 3), tight_layout=True)\n",
    "ylabels = [x.replace(\"_\", \" \") for x in _comparison._organ.values]\n",
    "yticks =  range(len(ylabels))\n",
    "\n",
    "x_data = _comparison.literature.values\n",
    "x_model = _comparison.model.values\n",
    "\n",
    "ax.scatter(\n",
    "    x_data, yticks,\n",
    "    facecolors='none',\n",
    "    edgecolors='#cf0007',\n",
    "    marker=\"o\",\n",
    "    linewidth=1.5,\n",
    "    s=60,\n",
    "    label=\"data\"\n",
    ")\n",
    "ax.scatter(\n",
    "    x_model, yticks,\n",
    "    #facecolors='none',\n",
    "    #edgecolors='0.2',\n",
    "    color=\"0.1\",\n",
    "    marker=\"x\",\n",
    "    s=50,\n",
    "    label=\"model\"\n",
    ")\n",
    "ax.legend(loc=2)\n",
    "ax.grid(linewidth=0.5, linestyle=\"dotted\")\n",
    "ax.set_yticks(yticks);\n",
    "ax.set_yticklabels(ylabels);\n",
    "ax.set_xscale(\"log\")\n",
    "ax.set_xlabel(\"Blood Flow Fraction\")\n",
    "ax.set_xlim(0.5*min(x_data), 2*max(x_data));\n",
    "fig.savefig(\"../figures/whole-body-flow-plots/blood-flow-fraction.png\", dpi=300)"
   ]
  },
  {
   "cell_type": "code",
   "execution_count": null,
   "metadata": {},
   "outputs": [],
   "source": []
  }
 ],
 "metadata": {
  "kernelspec": {
   "display_name": "Python 3",
   "language": "python",
   "name": "python3"
  },
  "language_info": {
   "codemirror_mode": {
    "name": "ipython",
    "version": 3
   },
   "file_extension": ".py",
   "mimetype": "text/x-python",
   "name": "python",
   "nbconvert_exporter": "python",
   "pygments_lexer": "ipython3",
   "version": "3.7.6"
  }
 },
 "nbformat": 4,
 "nbformat_minor": 4
}
