{
 "cells": [
  {
   "cell_type": "code",
   "execution_count": 14,
   "metadata": {},
   "outputs": [
    {
     "name": "stdout",
     "output_type": "stream",
     "text": [
      "The autoreload extension is already loaded. To reload it, use:\n",
      "  %reload_ext autoreload\n"
     ]
    }
   ],
   "source": [
    "%load_ext autoreload\n",
    "%autoreload 2"
   ]
  },
  {
   "cell_type": "code",
   "execution_count": 15,
   "metadata": {},
   "outputs": [],
   "source": [
    "import pandas as pd\n",
    "import numpy as np\n",
    "import sys\n",
    "sys.path.append(\"../code\")"
   ]
  },
  {
   "cell_type": "code",
   "execution_count": 16,
   "metadata": {},
   "outputs": [],
   "source": [
    "from scipy.stats import linregress"
   ]
  },
  {
   "cell_type": "code",
   "execution_count": 17,
   "metadata": {},
   "outputs": [],
   "source": [
    "from manuscript import compute_explained_variance\n",
    "from manuscript import analyse_one_cohort"
   ]
  },
  {
   "cell_type": "code",
   "execution_count": 18,
   "metadata": {},
   "outputs": [],
   "source": [
    "import matplotlib.pyplot as plt\n",
    "%matplotlib inline\n",
    "import seaborn as sns"
   ]
  },
  {
   "cell_type": "code",
   "execution_count": 19,
   "metadata": {},
   "outputs": [],
   "source": [
    "import matplotlib as mpl\n",
    "\n",
    "mpl.rcParams['axes.titlesize'] = 16\n",
    "mpl.rcParams['axes.labelsize'] = 16\n",
    "mpl.rcParams['legend.fontsize'] = 12\n",
    "mpl.rcParams['xtick.labelsize'] = 14\n",
    "mpl.rcParams['ytick.labelsize'] = 14\n",
    "mpl.rcParams['axes.spines.right'] = False\n",
    "mpl.rcParams['axes.spines.top'] = False"
   ]
  },
  {
   "cell_type": "markdown",
   "metadata": {},
   "source": [
    "### Load autopsy data\n",
    "Autopsy data is parsed from raw excel files in [this notebook](autopsy-metastasis-freqs.ipynb). Here we just load the pickled data:"
   ]
  },
  {
   "cell_type": "code",
   "execution_count": 20,
   "metadata": {},
   "outputs": [],
   "source": [
    "data = pd.read_pickle(\"../output/data/experimental_metastasis_freqs/all-experimental-metastais-frequency-data.p\")"
   ]
  },
  {
   "cell_type": "markdown",
   "metadata": {},
   "source": [
    "### Load simulations data\n",
    "Simulations data is first preprocessed in [this notebook](compute-fraction-of-cells-from-simulations.ipynb), which turns a set of trajectories into a primary-organ-to-metastatic-site probability matrix. Here we just load the pickled data."
   ]
  },
  {
   "cell_type": "code",
   "execution_count": 21,
   "metadata": {},
   "outputs": [],
   "source": [
    "_model = pd.read_pickle(\"../output/data/tracers_notrajs/prob_matrix_tracers_notrajs_symmetrized_10000.p\")\n",
    "\n",
    "_dict = {\n",
    "    'brain': \"brain\",\n",
    "    'large_intestine': \"large intestine\",\n",
    "    'pancreas': \"pancreas\",\n",
    "    'stomach': \"stomach\",\n",
    "    'heart': \"heart\",\n",
    "    'liver': \"liver\",\n",
    "    'small_intestine': \"small intestine\",\n",
    "    'prostate': \"prostate\",\n",
    "    'gallbladder': \"gallbladder\",\n",
    "    'urinary_bladder': \"bladder\",\n",
    "    'lung': \"lung\",\n",
    "    'kidney': \"kidney\",\n",
    "    'adrenal_gland': \"adrenal gland\"\n",
    "}\n",
    "\n",
    "_model.index = [\n",
    "    _dict[x].replace(\"stomach\", \"esophageal and gastric\").replace(\"large intestine\", \"colorectal\")\n",
    "    for x in _model.index\n",
    "]\n",
    "_model.columns = [\n",
    "    _dict[x]\n",
    "    for x in _model.columns\n",
    "]\n",
    "\n",
    "\n",
    "_model.index.name = \"cancer\"\n",
    "\n",
    "_model.columns.name = \"metastatic site\""
   ]
  },
  {
   "cell_type": "markdown",
   "metadata": {},
   "source": [
    "Turn dataframe into long form"
   ]
  },
  {
   "cell_type": "code",
   "execution_count": 22,
   "metadata": {},
   "outputs": [],
   "source": [
    "# long form\n",
    "model = _model.reset_index().melt(id_vars=[\"cancer\"])"
   ]
  },
  {
   "cell_type": "markdown",
   "metadata": {},
   "source": [
    "and save it for later use:"
   ]
  },
  {
   "cell_type": "code",
   "execution_count": 23,
   "metadata": {},
   "outputs": [],
   "source": [
    "model.to_pickle(\"../output/data/tracers_notrajs/model-longform.p\")"
   ]
  },
  {
   "cell_type": "markdown",
   "metadata": {},
   "source": [
    "We load a colors dict to be consistent with other figures"
   ]
  },
  {
   "cell_type": "code",
   "execution_count": 24,
   "metadata": {},
   "outputs": [],
   "source": [
    "colors_dict = pd.read_pickle(\"../output/data/experimental_metastasis_freqs/study-colors-dict.p\")"
   ]
  },
  {
   "cell_type": "code",
   "execution_count": 25,
   "metadata": {},
   "outputs": [],
   "source": [
    "def do_fig(metadata, figsize=(4, 4)):\n",
    "    _metadata = metadata.loc[(metadata.fraction_data > 0) & (metadata.fraction_model > 0)].copy()\n",
    "\n",
    "    _p = _metadata.fraction_data\n",
    "    _N = _metadata.num_patients_data\n",
    "\n",
    "    _sigma = np.sqrt(_p * (1 - _p)  / _N)\n",
    "    measurement_errors = np.abs(_sigma / _p)\n",
    "\n",
    "    _metadata[\"fraction_data_lower\"] = _metadata.fraction_data / np.exp(measurement_errors)\n",
    "    _metadata[\"fraction_data_upper\"] = _metadata.fraction_data * np.exp(measurement_errors)\n",
    "\n",
    "\n",
    "    fig, ax = plt.subplots(1, 1, figsize=figsize, tight_layout=True)\n",
    "    ax.set_xscale(\"log\")\n",
    "    ax.set_yscale(\"log\")\n",
    "    ax.set_ylabel(\"$f_p$\")\n",
    "    ax.set_xlabel(\"$f_c$\")\n",
    "    x = _metadata.fraction_model\n",
    "    y = _metadata.fraction_data\n",
    "    ax.scatter(\n",
    "        x=x,\n",
    "        y=y,\n",
    "        marker=\"s\",\n",
    "        facecolors=[colors_dict[t] for t in _metadata.Study],\n",
    "        edgecolors='0.2',\n",
    "        zorder=10\n",
    "    )\n",
    "    for _, record in _metadata.iterrows():\n",
    "        ax.plot(\n",
    "            [record.fraction_model, record.fraction_model],\n",
    "            [record.fraction_data_lower, record.fraction_data_upper],\n",
    "            c=\"0.2\",\n",
    "            lw=1\n",
    "        )\n",
    "        delta = 1.03\n",
    "        ax.plot(\n",
    "            [record.fraction_model / delta, record.fraction_model * delta],\n",
    "            [record.fraction_data_lower, record.fraction_data_lower],\n",
    "            c=\"0.2\",\n",
    "            lw=1\n",
    "        )\n",
    "        ax.plot(\n",
    "            [record.fraction_model / delta, record.fraction_model * delta],\n",
    "            [record.fraction_data_upper, record.fraction_data_upper],\n",
    "            c=\"0.2\",\n",
    "            lw=1\n",
    "        )\n",
    "    \n",
    "    slope, intercept, rvalue, pvalue, _ = linregress(np.log(x), np.log(y))    \n",
    "    c = 2\n",
    "    mx, Mx = min(x) / c, max(x) * c\n",
    "    my, My = min(y) / c, max(y) * c\n",
    "    x_arr = np.geomspace(mx, Mx)\n",
    "    f_x_arr = np.exp(intercept + slope * np.log(x_arr))\n",
    "    ax.plot(x_arr, f_x_arr, c=\"0.2\", lw=1)\n",
    "    ax.set_xlim(mx, Mx)\n",
    "    ax.set_ylim(my, My)\n",
    "    return fig, ax"
   ]
  },
  {
   "cell_type": "code",
   "execution_count": 26,
   "metadata": {},
   "outputs": [
    {
     "name": "stdout",
     "output_type": "stream",
     "text": [
      "pancreas\n",
      "R2_adjusted: 0.6153737321119738\n",
      "pval: 0.005051528161799066\n",
      "ratio_flow_total: 0.6153737321119738\n",
      "\n",
      "esophageal and gastric\n",
      "R2_adjusted: 0.2514912926754727\n",
      "pval: 0.018892885107188753\n",
      "ratio_flow_total: 0.2514912926754727\n",
      "\n",
      "liver\n",
      "R2_adjusted: 0.09152581908741399\n",
      "pval: 0.23402012427887986\n",
      "ratio_flow_total: 0.09152581908741399\n",
      "\n",
      "prostate\n",
      "R2_adjusted: 0.46785516381331527\n",
      "pval: 0.0026080671729820284\n",
      "ratio_flow_total: 0.46785516381331527\n",
      "\n",
      "lung\n",
      "R2_adjusted: 0.82111333068359\n",
      "pval: 7.229182833840766e-09\n",
      "ratio_flow_total: 0.8211133306835902\n",
      "\n",
      "kidney\n",
      "R2_adjusted: 0.141578215313233\n",
      "pval: 0.16765854842212327\n",
      "ratio_flow_total: 0.141578215313233\n",
      "\n",
      "colorectal\n",
      "R2_adjusted: 0.35604163034834396\n",
      "pval: 0.003032996111385923\n",
      "ratio_flow_total: 0.35604163034834396\n",
      "\n"
     ]
    },
    {
     "data": {
      "image/png": "[encoded data removed]",
      "text/plain": [
       "<Figure size 273.6x273.6 with 1 Axes>"
      ]
     },
     "metadata": {
      "needs_background": "light"
     },
     "output_type": "display_data"
    },
    {
     "data": {
      "image/png": "[encoded data removed]",
      "text/plain": [
       "<Figure size 273.6x273.6 with 1 Axes>"
      ]
     },
     "metadata": {
      "needs_background": "light"
     },
     "output_type": "display_data"
    },
    {
     "data": {
      "image/png": "[encoded data removed]",
      "text/plain": [
       "<Figure size 273.6x273.6 with 1 Axes>"
      ]
     },
     "metadata": {
      "needs_background": "light"
     },
     "output_type": "display_data"
    },
    {
     "data": {
      "image/png": "[encoded data removed]",
      "text/plain": [
       "<Figure size 273.6x273.6 with 1 Axes>"
      ]
     },
     "metadata": {
      "needs_background": "light"
     },
     "output_type": "display_data"
    },
    {
     "data": {
      "image/png": "[encoded data removed]",
      "text/plain": [
       "<Figure size 273.6x273.6 with 1 Axes>"
      ]
     },
     "metadata": {
      "needs_background": "light"
     },
     "output_type": "display_data"
    },
    {
     "data": {
      "image/png": "[encoded data removed]",
      "text/plain": [
       "<Figure size 273.6x273.6 with 1 Axes>"
      ]
     },
     "metadata": {
      "needs_background": "light"
     },
     "output_type": "display_data"
    },
    {
     "data": {
      "image/png": "[encoded data removed]",
      "text/plain": [
       "<Figure size 273.6x273.6 with 1 Axes>"
      ]
     },
     "metadata": {
      "needs_background": "light"
     },
     "output_type": "display_data"
    }
   ],
   "source": [
    "pieces_data = {}\n",
    "for cancer_type in [\"pancreas\", \"esophageal and gastric\", \"liver\", \"prostate\", \"lung\", \"kidney\", \"colorectal\"]:\n",
    "    # high-quality data, at least two studies\n",
    "    sdata = data.loc[data.cancer == cancer_type]\n",
    "    result, metadata = analyse_one_cohort(data=sdata, model=model)\n",
    "    print(cancer_type)\n",
    "    print(\"R2_adjusted:\", result[\"R2_adjusted\"])\n",
    "    print(\"pval:\", result[\"pvalue\"])\n",
    "    print(\"ratio_flow_total:\", result[\"flow\"] / (result[\"flow\"] + result[\"other\"]))\n",
    "    print()\n",
    "    fig, ax = do_fig(metadata=metadata.copy(), figsize=(3.8, 3.8))\n",
    "    ax.set_title((cancer_type[0].upper() + cancer_type[1:] + \" cancer\").replace(\"Pancreas\", \"Pancreatic\").replace(\"and\", \"and\\n\"))\n",
    "    pieces_data[cancer_type] = result\n",
    "    fig.savefig(f\"../figures/model-data-comparison/{cancer_type.replace(' ', '-')}.png\", dpi=150)\n"
   ]
  },
  {
   "cell_type": "markdown",
   "metadata": {},
   "source": [
    "### Plot variance decomposition"
   ]
  },
  {
   "cell_type": "code",
   "execution_count": 56,
   "metadata": {},
   "outputs": [],
   "source": [
    "df = pd.DataFrame(pieces_data).T\n",
    "df = (df[[\"flow\", \"other\", \"noise\"]].T / df.meansquare).T\n",
    "df = df.loc[df.sum(axis=1).sort_values(ascending=False).index]"
   ]
  },
  {
   "cell_type": "code",
   "execution_count": 57,
   "metadata": {},
   "outputs": [],
   "source": [
    "_data = data"
   ]
  },
  {
   "cell_type": "code",
   "execution_count": 58,
   "metadata": {},
   "outputs": [],
   "source": [
    "pieces_data_organs = {}\n",
    "for metastatic_site in [\"brain\", \"heart\", \"kidney\", \"liver\", \"lung\", \"pancreas\"]:\n",
    "    sdata = _data.loc[_data.metastatic_site == metastatic_site]\n",
    "    result, metadata = analyse_one_cohort(data=sdata, model=model)\n",
    "    pieces_data_organs[metastatic_site] = result\n"
   ]
  },
  {
   "cell_type": "code",
   "execution_count": 59,
   "metadata": {},
   "outputs": [],
   "source": [
    "df2 = pd.DataFrame(pieces_data_organs).T\n",
    "df2 = (df2[[\"flow\", \"other\", \"noise\"]].T / df2.meansquare).T\n",
    "df2 = df2.loc[df2.sum(axis=1).sort_values(ascending=False).index]"
   ]
  },
  {
   "cell_type": "code",
   "execution_count": 60,
   "metadata": {},
   "outputs": [],
   "source": [
    "df.index = [\n",
    "    x.replace(\"esophageal\", \"es.\").replace(\"pancreas\", \"pancreatic\").replace(\"and\", \"&\")\n",
    "    for x in df.index\n",
    "]"
   ]
  },
  {
   "cell_type": "markdown",
   "metadata": {},
   "source": [
    "Variance decomposition for each primary organ"
   ]
  },
  {
   "cell_type": "code",
   "execution_count": 61,
   "metadata": {},
   "outputs": [
    {
     "data": {
      "image/png": "[encoded data removed]",
      "text/plain": [
       "<Figure size 432x201.6 with 1 Axes>"
      ]
     },
     "metadata": {
      "needs_background": "light"
     },
     "output_type": "display_data"
    }
   ],
   "source": [
    "base_color = \"#bb0a1e\"\n",
    "fig, ax = plt.subplots(1, 1, figsize=(6, len(df)/2.5), tight_layout=False)\n",
    "sns.barplot(\n",
    "    x=df.flow + df.other + df.noise,\n",
    "    y=df.index,\n",
    "    color=base_color,\n",
    "    alpha=0.3,\n",
    "    ax=ax\n",
    ")\n",
    "sns.barplot(\n",
    "    x=df.flow + df.noise,\n",
    "    y=df.index,\n",
    "    color=base_color,\n",
    "    ax=ax\n",
    ")\n",
    "\n",
    "sns.barplot(\n",
    "    x=df.noise,\n",
    "    y=df.index,\n",
    "    color=\"0.85\",\n",
    "    ax=ax\n",
    ")\n",
    "ax.set_ylabel(\"Primary cancer\")\n",
    "ax.set_xlabel(\"relative variation\")\n",
    "ax.set_xlim(0, 0.4)\n",
    "fig.subplots_adjust(bottom=0.2, left=0.3)\n",
    "fig.savefig(\"../figures/model-data-comparison/cancer-splitted-variance.png\", dpi=150)"
   ]
  },
  {
   "cell_type": "markdown",
   "metadata": {},
   "source": [
    "Variance decomposition for each metastatic site"
   ]
  },
  {
   "cell_type": "code",
   "execution_count": 62,
   "metadata": {},
   "outputs": [
    {
     "data": {
      "image/png": "[encoded data removed]",
      "text/plain": [
       "<Figure size 432x186.667 with 1 Axes>"
      ]
     },
     "metadata": {
      "needs_background": "light"
     },
     "output_type": "display_data"
    }
   ],
   "source": [
    "\n",
    "fig, ax = plt.subplots(1, 1, figsize=(6, len(df)/2.7), tight_layout=False)\n",
    "sns.barplot(\n",
    "    x=df2.flow + df2.other + df2.noise,\n",
    "    y=df2.index,\n",
    "    color=base_color,\n",
    "    alpha=0.3,\n",
    "    ax=ax\n",
    ")\n",
    "sns.barplot(\n",
    "    x=df2.flow + df2.noise,\n",
    "    y=df2.index,\n",
    "    color=base_color,\n",
    "    ax=ax\n",
    ")\n",
    "\n",
    "sns.barplot(\n",
    "    x=df2.noise,\n",
    "    y=df2.index,\n",
    "    color=\"0.85\",\n",
    "    ax=ax\n",
    ")\n",
    "ax.set_ylabel(\"Metastatic site\")\n",
    "ax.set_xlabel(\"relative variation\")\n",
    "ax.set_xlim(0, 0.4)\n",
    "fig.subplots_adjust(bottom=0.2, left=0.3)\n",
    "fig.savefig(\"../figures/model-data-comparison/metastasis-splitted-variance.png\", dpi=150)\n"
   ]
  },
  {
   "cell_type": "code",
   "execution_count": 63,
   "metadata": {},
   "outputs": [
    {
     "data": {
      "text/plain": [
       "lung             0.821113\n",
       "pancreatic       0.615374\n",
       "kidney           0.141578\n",
       "es. & gastric    0.251491\n",
       "colorectal       0.356042\n",
       "prostate         0.467855\n",
       "liver            0.091526\n",
       "dtype: float64"
      ]
     },
     "execution_count": 63,
     "metadata": {},
     "output_type": "execute_result"
    }
   ],
   "source": [
    "df.flow / (df.flow + df.other)"
   ]
  },
  {
   "cell_type": "code",
   "execution_count": 64,
   "metadata": {},
   "outputs": [
    {
     "data": {
      "text/plain": [
       "liver       0.011946\n",
       "lung        0.003812\n",
       "brain       0.003690\n",
       "heart       0.126366\n",
       "kidney      0.239975\n",
       "pancreas    0.059888\n",
       "dtype: float64"
      ]
     },
     "execution_count": 64,
     "metadata": {},
     "output_type": "execute_result"
    }
   ],
   "source": [
    "df2.flow / (df2.flow + df2.other)"
   ]
  },
  {
   "cell_type": "code",
   "execution_count": null,
   "metadata": {},
   "outputs": [],
   "source": []
  }
 ],
 "metadata": {
  "kernelspec": {
   "display_name": "Python 3",
   "language": "python",
   "name": "python3"
  },
  "language_info": {
   "codemirror_mode": {
    "name": "ipython",
    "version": 3
   },
   "file_extension": ".py",
   "mimetype": "text/x-python",
   "name": "python",
   "nbconvert_exporter": "python",
   "pygments_lexer": "ipython3",
   "version": "3.7.6"
  }
 },
 "nbformat": 4,
 "nbformat_minor": 4
}
